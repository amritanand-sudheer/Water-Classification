{
  "cells": [
    {
      "cell_type": "markdown",
      "metadata": {
        "id": "wU4m3x1485Qw"
      },
      "source": [
        "**SVM Based Program - Water Quality Classification**"
      ]
    },
    {
      "cell_type": "code",
      "execution_count": 10,
      "metadata": {
        "id": "a7rDjc8cNW8G",
        "colab": {
          "base_uri": "https://localhost:8080/"
        },
        "outputId": "c4d8f8e8-27f3-4523-b683-c621fde6ee22"
      },
      "outputs": [
        {
          "output_type": "stream",
          "name": "stdout",
          "text": [
            "Drive already mounted at /content/drive; to attempt to forcibly remount, call drive.mount(\"/content/drive\", force_remount=True).\n",
            "AUM AMRITESWARYAI NAMAH\n"
          ]
        }
      ],
      "source": [
        "# Importing the libraries\n",
        "import numpy as np\n",
        "import matplotlib.pyplot as plt\n",
        "import pandas as pd\n",
        "from sklearn.metrics import classification_report\n",
        "import matplotlib\n",
        "from google.colab import drive\n",
        "\n",
        "import sklearn\n",
        "from sklearn import datasets\n",
        "from sklearn.model_selection import train_test_split, GridSearchCV\n",
        "#from sklearn.grid_search import GridSearchCV\n",
        "from sklearn.metrics import mean_absolute_error\n",
        "from sklearn.metrics import mean_squared_error\n",
        "from sklearn.svm import SVR\n",
        "from sklearn import preprocessing\n",
        "from sklearn.feature_selection import mutual_info_regression\n",
        "from sklearn.model_selection import StratifiedKFold\n",
        "\n",
        "import seaborn as sb\n",
        "\n",
        "drive.mount('/content/drive')\n",
        "print ('AUM AMRITESWARYAI NAMAH')"
      ]
    },
    {
      "cell_type": "code",
      "source": [
        "from google.colab import drive\n",
        "drive.mount('/content/drive')"
      ],
      "metadata": {
        "id": "9DSqBxAvlunQ",
        "colab": {
          "base_uri": "https://localhost:8080/"
        },
        "outputId": "0a82fb8f-9e8f-4bfc-cd40-01e8c8568812"
      },
      "execution_count": 11,
      "outputs": [
        {
          "output_type": "stream",
          "name": "stdout",
          "text": [
            "Drive already mounted at /content/drive; to attempt to forcibly remount, call drive.mount(\"/content/drive\", force_remount=True).\n"
          ]
        }
      ]
    },
    {
      "cell_type": "markdown",
      "metadata": {
        "id": "PqEKvmvvzmhx"
      },
      "source": [
        "## load file"
      ]
    },
    {
      "cell_type": "code",
      "source": [
        "'''# Importing the dataset\n",
        "dataset = pd.read_csv('/content/drive/MyDrive/Amritanand/BTechFinalProject/TVMwaterEditedFinal3.csv') '''"
      ],
      "metadata": {
        "id": "M0ax8Diim7nx",
        "colab": {
          "base_uri": "https://localhost:8080/",
          "height": 35
        },
        "outputId": "e6f4929a-010b-45d1-c757-97220e96646d"
      },
      "execution_count": 12,
      "outputs": [
        {
          "output_type": "execute_result",
          "data": {
            "text/plain": [
              "\"# Importing the dataset\\ndataset = pd.read_csv('/content/drive/MyDrive/Amritanand/BTechFinalProject/TVMwaterEditedFinal3.csv') \""
            ],
            "application/vnd.google.colaboratory.intrinsic+json": {
              "type": "string"
            }
          },
          "metadata": {},
          "execution_count": 12
        }
      ]
    },
    {
      "cell_type": "code",
      "execution_count": 13,
      "metadata": {
        "id": "Ar894XeOOgZc"
      },
      "outputs": [],
      "source": [
        "# Importing the dataset\n",
        "dataset = pd.read_csv('/content/drive/MyDrive/Projects/Machine Learning Framework for Water Quality/ TVMwaterEditedFinal3.csv')"
      ]
    },
    {
      "cell_type": "code",
      "execution_count": 14,
      "metadata": {
        "id": "DY9NJOmCPRao",
        "colab": {
          "base_uri": "https://localhost:8080/"
        },
        "outputId": "d24710a1-b7f7-485d-afda-668b5ddf689c"
      },
      "outputs": [
        {
          "output_type": "stream",
          "name": "stdout",
          "text": [
            "(16948, 20)\n"
          ]
        }
      ],
      "source": [
        "print(dataset.shape)"
      ]
    },
    {
      "cell_type": "code",
      "execution_count": 15,
      "metadata": {
        "id": "QaP3Q35nV-Se",
        "colab": {
          "base_uri": "https://localhost:8080/"
        },
        "outputId": "3d5b05de-5c41-4cb1-f9ec-7df26f8dd7ab"
      },
      "outputs": [
        {
          "output_type": "stream",
          "name": "stdout",
          "text": [
            "<class 'pandas.core.frame.DataFrame'>\n",
            "RangeIndex: 16948 entries, 0 to 16947\n",
            "Data columns (total 11 columns):\n",
            " #   Column     Non-Null Count  Dtype  \n",
            "---  ------     --------------  -----  \n",
            " 0   Turbidity  16948 non-null  float64\n",
            " 1   Coliform   16948 non-null  float64\n",
            " 2   Manganese  16948 non-null  float64\n",
            " 3   Iron       16948 non-null  float64\n",
            " 4   Nitrate    16948 non-null  float64\n",
            " 5   Fluoride   16948 non-null  float64\n",
            " 6   Chloride   16948 non-null  float64\n",
            " 7   TDS        16948 non-null  float64\n",
            " 8   pH         16948 non-null  float64\n",
            " 9   Hardness   16948 non-null  float64\n",
            " 10  WQI group  16948 non-null  object \n",
            "dtypes: float64(10), object(1)\n",
            "memory usage: 1.4+ MB\n",
            "None\n"
          ]
        }
      ],
      "source": [
        "## Drop unnecessary columns\n",
        "dataset = dataset.drop(['DistrictName', 'BlockName','PanchayatName', 'VillageName', 'HabitationName', 'Location', 'TypeOfSource', 'Tested Year', 'Tested Month'], axis = 1)\n",
        "print(dataset.info())"
      ]
    },
    {
      "cell_type": "code",
      "execution_count": 16,
      "metadata": {
        "id": "8Jo0PoX49bww",
        "colab": {
          "base_uri": "https://localhost:8080/"
        },
        "outputId": "9c797a48-b9be-47c8-91ad-60754a0b3722"
      },
      "outputs": [
        {
          "output_type": "stream",
          "name": "stdout",
          "text": [
            "False\n",
            "Empty DataFrame\n",
            "Columns: [Turbidity, Coliform, Manganese, Iron, Nitrate, Fluoride, Chloride, TDS, pH, Hardness, WQI group]\n",
            "Index: []\n"
          ]
        }
      ],
      "source": [
        "## Check if any NaN value present\n",
        "print(dataset.isnull().values.any())\n",
        "print(dataset[dataset.isna().any(axis=1)])"
      ]
    },
    {
      "cell_type": "code",
      "execution_count": 17,
      "metadata": {
        "id": "NfxBtBwAYByt",
        "colab": {
          "base_uri": "https://localhost:8080/"
        },
        "outputId": "3cc6699a-a4bd-4d6a-e577-8d3012ba6a40"
      },
      "outputs": [
        {
          "output_type": "stream",
          "name": "stdout",
          "text": [
            "False\n"
          ]
        }
      ],
      "source": [
        "## To drop rows with NaN values\n",
        "dataset = dataset.dropna()\n",
        "\n",
        "## To check and confirm abscence of NaN\n",
        "print(dataset.isnull().values.any())"
      ]
    },
    {
      "cell_type": "code",
      "execution_count": 18,
      "metadata": {
        "id": "FyWh7RwWTNX_",
        "colab": {
          "base_uri": "https://localhost:8080/"
        },
        "outputId": "adddb6dd-df6c-4417-93e5-488f0e4cafab"
      },
      "outputs": [
        {
          "output_type": "stream",
          "name": "stdout",
          "text": [
            "<class 'pandas.core.frame.DataFrame'>\n",
            "RangeIndex: 16948 entries, 0 to 16947\n",
            "Data columns (total 11 columns):\n",
            " #   Column     Non-Null Count  Dtype  \n",
            "---  ------     --------------  -----  \n",
            " 0   Turbidity  16948 non-null  float64\n",
            " 1   Coliform   16948 non-null  float64\n",
            " 2   Manganese  16948 non-null  float64\n",
            " 3   Iron       16948 non-null  float64\n",
            " 4   Nitrate    16948 non-null  float64\n",
            " 5   Fluoride   16948 non-null  float64\n",
            " 6   Chloride   16948 non-null  float64\n",
            " 7   TDS        16948 non-null  float64\n",
            " 8   pH         16948 non-null  float64\n",
            " 9   Hardness   16948 non-null  float64\n",
            " 10  WQI group  16948 non-null  object \n",
            "dtypes: float64(10), object(1)\n",
            "memory usage: 1.4+ MB\n",
            "None\n"
          ]
        }
      ],
      "source": [
        "print(dataset.info())"
      ]
    },
    {
      "cell_type": "markdown",
      "metadata": {
        "id": "xBhYywgpFlNJ"
      },
      "source": [
        "##Understanding the data"
      ]
    },
    {
      "cell_type": "code",
      "execution_count": 19,
      "metadata": {
        "id": "AR1bj9sIFqmA",
        "colab": {
          "base_uri": "https://localhost:8080/"
        },
        "outputId": "451a3998-d8c5-4d23-d20e-5ba8d25f84c0"
      },
      "outputs": [
        {
          "output_type": "stream",
          "name": "stdout",
          "text": [
            "   Turbidity  Coliform  Manganese  Iron  Nitrate  Fluoride  Chloride    TDS  \\\n",
            "0       1.06      20.0       0.01  0.04     2.17      0.44      36.0   40.0   \n",
            "1       0.45      93.0       0.01  0.07     1.29      0.18      16.0   28.9   \n",
            "2       0.24       0.0       0.01  0.00     0.17      0.21     148.0  228.0   \n",
            "3       3.06      28.0       0.01  0.07     0.96      0.20      32.0   83.2   \n",
            "4       3.71      93.0       0.01  0.03     1.65      0.23      48.0   76.6   \n",
            "\n",
            "     pH  Hardness   WQI group  \n",
            "0  5.27      12.0  Unsuitable  \n",
            "1  5.16      16.0  Unsuitable  \n",
            "2  6.28      40.0        Good  \n",
            "3  5.70      80.0  Unsuitable  \n",
            "4  5.32      12.0  Unsuitable  \n",
            "          Turbidity      Coliform     Manganese          Iron       Nitrate  \\\n",
            "count  16948.000000  16948.000000  16948.000000  16948.000000  16948.000000   \n",
            "mean       3.441177    279.551381      0.010296      0.114336      4.134908   \n",
            "std       14.480779    436.050972      0.016689      0.352910      4.852542   \n",
            "min        0.000000      0.000000      0.010000      0.000000      0.002000   \n",
            "25%        0.560000      4.000000      0.010000      0.030000      1.190000   \n",
            "50%        1.150000     35.000000      0.010000      0.060000      2.320000   \n",
            "75%        2.480000    290.000000      0.010000      0.120000      5.260000   \n",
            "max     1016.000000  11000.000000      1.010000     32.000000     61.270000   \n",
            "\n",
            "           Fluoride      Chloride           TDS            pH      Hardness  \n",
            "count  16948.000000  16948.000000  16948.000000  16948.000000  16948.000000  \n",
            "mean       0.342527     52.610089    135.770897      6.053399     44.721005  \n",
            "std        0.229627    112.441816    244.506797      0.829028     74.741804  \n",
            "min        0.000000      0.190000      0.130000      0.030000      0.000000  \n",
            "25%        0.200000     22.000000     57.000000      5.530000     20.000000  \n",
            "50%        0.280000     36.000000     93.700000      6.050000     28.000000  \n",
            "75%        0.480000     60.000000    156.000000      6.600000     46.000000  \n",
            "max        9.000000   7520.000000  12400.000000     10.940000   4100.000000  \n",
            "<class 'pandas.core.frame.DataFrame'>\n",
            "RangeIndex: 16948 entries, 0 to 16947\n",
            "Data columns (total 11 columns):\n",
            " #   Column     Non-Null Count  Dtype  \n",
            "---  ------     --------------  -----  \n",
            " 0   Turbidity  16948 non-null  float64\n",
            " 1   Coliform   16948 non-null  float64\n",
            " 2   Manganese  16948 non-null  float64\n",
            " 3   Iron       16948 non-null  float64\n",
            " 4   Nitrate    16948 non-null  float64\n",
            " 5   Fluoride   16948 non-null  float64\n",
            " 6   Chloride   16948 non-null  float64\n",
            " 7   TDS        16948 non-null  float64\n",
            " 8   pH         16948 non-null  float64\n",
            " 9   Hardness   16948 non-null  float64\n",
            " 10  WQI group  16948 non-null  object \n",
            "dtypes: float64(10), object(1)\n",
            "memory usage: 1.4+ MB\n",
            "None\n"
          ]
        }
      ],
      "source": [
        "print(dataset.head())\n",
        "print(dataset.describe())\n",
        "print(dataset.info())"
      ]
    },
    {
      "cell_type": "markdown",
      "metadata": {
        "id": "Ud5iOl46JxZA"
      },
      "source": [
        "## Selecting class labels, and featureset"
      ]
    },
    {
      "cell_type": "code",
      "execution_count": 20,
      "metadata": {
        "id": "eL6LsxMjJ2oF",
        "colab": {
          "base_uri": "https://localhost:8080/"
        },
        "outputId": "661f4316-134e-4776-cce4-b060bd46e509"
      },
      "outputs": [
        {
          "output_type": "stream",
          "name": "stdout",
          "text": [
            "   Turbidity  Coliform  Manganese  Iron  Nitrate  Fluoride  Chloride    TDS  \\\n",
            "0       1.06      20.0       0.01  0.04     2.17      0.44      36.0   40.0   \n",
            "1       0.45      93.0       0.01  0.07     1.29      0.18      16.0   28.9   \n",
            "2       0.24       0.0       0.01  0.00     0.17      0.21     148.0  228.0   \n",
            "3       3.06      28.0       0.01  0.07     0.96      0.20      32.0   83.2   \n",
            "4       3.71      93.0       0.01  0.03     1.65      0.23      48.0   76.6   \n",
            "\n",
            "     pH  Hardness  \n",
            "0  5.27      12.0  \n",
            "1  5.16      16.0  \n",
            "2  6.28      40.0  \n",
            "3  5.70      80.0  \n",
            "4  5.32      12.0  \n",
            "0    Unsuitable\n",
            "1    Unsuitable\n",
            "2          Good\n",
            "3    Unsuitable\n",
            "4    Unsuitable\n",
            "Name: WQI group, dtype: object\n"
          ]
        }
      ],
      "source": [
        "y = dataset['WQI group']\n",
        "X = dataset.drop(['WQI group'], axis = 1)\n",
        "# X = dataset.iloc[row_index_start:row_index_stop]\n",
        "# X = X.drop('id', axis = 1)\n",
        "print(X.head())\n",
        "print(y.head())"
      ]
    },
    {
      "cell_type": "markdown",
      "metadata": {
        "id": "XB9L8qfiQp1G"
      },
      "source": [
        "## Understanding the dataset"
      ]
    },
    {
      "cell_type": "code",
      "execution_count": 21,
      "metadata": {
        "id": "ssYyJRg9QsHC",
        "colab": {
          "base_uri": "https://localhost:8080/",
          "height": 472
        },
        "outputId": "3e93dd34-702a-4df0-da8e-d419f6f7d19b"
      },
      "outputs": [
        {
          "output_type": "display_data",
          "data": {
            "text/plain": [
              "<Figure size 640x480 with 1 Axes>"
            ],
            "image/png": "[encoded data removed]"
          },
          "metadata": {}
        }
      ],
      "source": [
        "# Visualising the relationship between Turbidity and WQI Class\n",
        "plt.scatter(dataset['Turbidity'], dataset['WQI group'])\n",
        "#plt.scatter(X['PanchayatName'], y, c=y, marker='o')\n",
        "plt.title('Turbidity and WQI Class')\n",
        "plt.xlabel('Turbidity  ')\n",
        "plt.ylabel('WQI Class')\n",
        "plt.ylim(-1,4)\n",
        "plt.show()\n",
        "\n",
        "\n",
        "\n",
        "#https://stackoverflow.com/questions/47006268/matplotlib-scatter-plot-with-color-label-and-legend-specified-by-c-option"
      ]
    },
    {
      "cell_type": "code",
      "execution_count": 21,
      "metadata": {
        "id": "k_hGAmynZg97"
      },
      "outputs": [],
      "source": []
    },
    {
      "cell_type": "code",
      "execution_count": 22,
      "metadata": {
        "id": "Jlql2FXUZhch",
        "colab": {
          "base_uri": "https://localhost:8080/",
          "height": 472
        },
        "outputId": "5b151640-6249-45b0-9d24-2dd4b734465c"
      },
      "outputs": [
        {
          "output_type": "display_data",
          "data": {
            "text/plain": [
              "<Figure size 640x480 with 1 Axes>"
            ],
            "image/png": "[encoded data removed]"
          },
          "metadata": {}
        }
      ],
      "source": [
        "# Visualising the relationship between Coliform and WQI Class\n",
        "plt.scatter(dataset['Coliform'], dataset['WQI group'])\n",
        "#plt.scatter(X['PanchayatName'], y, c=y, marker='o')\n",
        "plt.title('Coliform and WQI Class')\n",
        "plt.xlabel('Coliform')\n",
        "plt.ylabel('WQI Class')\n",
        "plt.ylim(-1,4)\n",
        "plt.show()\n",
        "\n",
        "\n",
        "\n",
        "#https://stackoverflow.com/questions/47006268/matplotlib-scatter-plot-with-color-label-and-legend-specified-by-c-option"
      ]
    },
    {
      "cell_type": "code",
      "execution_count": 22,
      "metadata": {
        "id": "Xa9F7GnZZ4xa"
      },
      "outputs": [],
      "source": []
    },
    {
      "cell_type": "code",
      "execution_count": 23,
      "metadata": {
        "id": "GIpDfF-PZ5H4",
        "colab": {
          "base_uri": "https://localhost:8080/",
          "height": 472
        },
        "outputId": "106e078b-12dd-4a26-88ca-e08f686bd633"
      },
      "outputs": [
        {
          "output_type": "display_data",
          "data": {
            "text/plain": [
              "<Figure size 640x480 with 1 Axes>"
            ],
            "image/png": "[encoded data removed]"
          },
          "metadata": {}
        }
      ],
      "source": [
        "# Visualising the relationship between pH and WQI Class\n",
        "plt.scatter(dataset['pH'], dataset['WQI group'])\n",
        "#plt.scatter(X['PanchayatName'], y, c=y, marker='o')\n",
        "plt.title('pH and WQI Class')\n",
        "plt.xlabel('pH')\n",
        "plt.ylabel('WQI Class')\n",
        "plt.ylim(-1,4)\n",
        "plt.show()\n",
        "\n",
        "\n",
        "\n",
        "#https://stackoverflow.com/questions/47006268/matplotlib-scatter-plot-with-color-label-and-legend-specified-by-c-option"
      ]
    },
    {
      "cell_type": "code",
      "execution_count": 23,
      "metadata": {
        "id": "N3ll1Jh6ce_x"
      },
      "outputs": [],
      "source": []
    },
    {
      "cell_type": "code",
      "execution_count": 24,
      "metadata": {
        "id": "gF9uUImwD2u7"
      },
      "outputs": [],
      "source": [
        "#pcoef = np.corrcoef(X)\n",
        "#print(pcoef)\n",
        "\n",
        "#fig, ax = plt.subplots(nrows=1, ncols=9, figsize=(12, 3))\n",
        "#for i in range(0,2):\n",
        "   # ax[i].scatter(X[0,],X[1+i,])\n",
        " #   ax[i].title.set_text('Correlation = ' + \"{:.2f}\".format(pcoef[0,i+1]))\n",
        "  #  ax[i].set(xlabel='x',ylabel='y')\n",
        "#fig.subplots_adjust(wspace=.4)\n",
        "#plt.show()"
      ]
    },
    {
      "cell_type": "code",
      "execution_count": 25,
      "metadata": {
        "id": "277WMSpof_9o",
        "colab": {
          "base_uri": "https://localhost:8080/",
          "height": 363
        },
        "outputId": "be6ebc79-e949-4067-cee1-3564d92a567d"
      },
      "outputs": [
        {
          "output_type": "execute_result",
          "data": {
            "text/plain": [
              "           Turbidity  Coliform  Manganese      Iron   Nitrate  Fluoride  \\\n",
              "Turbidity   1.000000  0.050555   0.001045  0.140628 -0.006422  0.016623   \n",
              "Coliform    0.050555  1.000000  -0.007535  0.042719 -0.015167  0.089202   \n",
              "Manganese   0.001045 -0.007535   1.000000 -0.000084 -0.010957  0.017362   \n",
              "Iron        0.140628  0.042719  -0.000084  1.000000 -0.033283  0.034382   \n",
              "Nitrate    -0.006422 -0.015167  -0.010957 -0.033283  1.000000  0.092247   \n",
              "Fluoride    0.016623  0.089202   0.017362  0.034382  0.092247  1.000000   \n",
              "Chloride   -0.001704 -0.006924  -0.002935 -0.003863  0.167288  0.031830   \n",
              "TDS        -0.000355  0.024914  -0.005209  0.001003  0.227302  0.061528   \n",
              "pH          0.062127  0.087656   0.007833  0.008110 -0.025801  0.047716   \n",
              "Hardness    0.010653  0.028347  -0.002007  0.012060  0.248088  0.087116   \n",
              "\n",
              "           Chloride       TDS        pH  Hardness  \n",
              "Turbidity -0.001704 -0.000355  0.062127  0.010653  \n",
              "Coliform  -0.006924  0.024914  0.087656  0.028347  \n",
              "Manganese -0.002935 -0.005209  0.007833 -0.002007  \n",
              "Iron      -0.003863  0.001003  0.008110  0.012060  \n",
              "Nitrate    0.167288  0.227302 -0.025801  0.248088  \n",
              "Fluoride   0.031830  0.061528  0.047716  0.087116  \n",
              "Chloride   1.000000  0.820185  0.064152  0.602880  \n",
              "TDS        0.820185  1.000000  0.124564  0.648205  \n",
              "pH         0.064152  0.124564  1.000000  0.244380  \n",
              "Hardness   0.602880  0.648205  0.244380  1.000000  "
            ],
            "text/html": [
              "\n",
              "  <div id=\"df-5e742268-a6e9-45da-a8ef-805da78e379b\" class=\"colab-df-container\">\n",
              "    <div>\n",
              "<style scoped>\n",
              "    .dataframe tbody tr th:only-of-type {\n",
              "        vertical-align: middle;\n",
              "    }\n",
              "\n",
              "    .dataframe tbody tr th {\n",
              "        vertical-align: top;\n",
              "    }\n",
              "\n",
              "    .dataframe thead th {\n",
              "        text-align: right;\n",
              "    }\n",
              "</style>\n",
              "<table border=\"1\" class=\"dataframe\">\n",
              "  <thead>\n",
              "    <tr style=\"text-align: right;\">\n",
              "      <th></th>\n",
              "      <th>Turbidity</th>\n",
              "      <th>Coliform</th>\n",
              "      <th>Manganese</th>\n",
              "      <th>Iron</th>\n",
              "      <th>Nitrate</th>\n",
              "      <th>Fluoride</th>\n",
              "      <th>Chloride</th>\n",
              "      <th>TDS</th>\n",
              "      <th>pH</th>\n",
              "      <th>Hardness</th>\n",
              "    </tr>\n",
              "  </thead>\n",
              "  <tbody>\n",
              "    <tr>\n",
              "      <th>Turbidity</th>\n",
              "      <td>1.000000</td>\n",
              "      <td>0.050555</td>\n",
              "      <td>0.001045</td>\n",
              "      <td>0.140628</td>\n",
              "      <td>-0.006422</td>\n",
              "      <td>0.016623</td>\n",
              "      <td>-0.001704</td>\n",
              "      <td>-0.000355</td>\n",
              "      <td>0.062127</td>\n",
              "      <td>0.010653</td>\n",
              "    </tr>\n",
              "    <tr>\n",
              "      <th>Coliform</th>\n",
              "      <td>0.050555</td>\n",
              "      <td>1.000000</td>\n",
              "      <td>-0.007535</td>\n",
              "      <td>0.042719</td>\n",
              "      <td>-0.015167</td>\n",
              "      <td>0.089202</td>\n",
              "      <td>-0.006924</td>\n",
              "      <td>0.024914</td>\n",
              "      <td>0.087656</td>\n",
              "      <td>0.028347</td>\n",
              "    </tr>\n",
              "    <tr>\n",
              "      <th>Manganese</th>\n",
              "      <td>0.001045</td>\n",
              "      <td>-0.007535</td>\n",
              "      <td>1.000000</td>\n",
              "      <td>-0.000084</td>\n",
              "      <td>-0.010957</td>\n",
              "      <td>0.017362</td>\n",
              "      <td>-0.002935</td>\n",
              "      <td>-0.005209</td>\n",
              "      <td>0.007833</td>\n",
              "      <td>-0.002007</td>\n",
              "    </tr>\n",
              "    <tr>\n",
              "      <th>Iron</th>\n",
              "      <td>0.140628</td>\n",
              "      <td>0.042719</td>\n",
              "      <td>-0.000084</td>\n",
              "      <td>1.000000</td>\n",
              "      <td>-0.033283</td>\n",
              "      <td>0.034382</td>\n",
              "      <td>-0.003863</td>\n",
              "      <td>0.001003</td>\n",
              "      <td>0.008110</td>\n",
              "      <td>0.012060</td>\n",
              "    </tr>\n",
              "    <tr>\n",
              "      <th>Nitrate</th>\n",
              "      <td>-0.006422</td>\n",
              "      <td>-0.015167</td>\n",
              "      <td>-0.010957</td>\n",
              "      <td>-0.033283</td>\n",
              "      <td>1.000000</td>\n",
              "      <td>0.092247</td>\n",
              "      <td>0.167288</td>\n",
              "      <td>0.227302</td>\n",
              "      <td>-0.025801</td>\n",
              "      <td>0.248088</td>\n",
              "    </tr>\n",
              "    <tr>\n",
              "      <th>Fluoride</th>\n",
              "      <td>0.016623</td>\n",
              "      <td>0.089202</td>\n",
              "      <td>0.017362</td>\n",
              "      <td>0.034382</td>\n",
              "      <td>0.092247</td>\n",
              "      <td>1.000000</td>\n",
              "      <td>0.031830</td>\n",
              "      <td>0.061528</td>\n",
              "      <td>0.047716</td>\n",
              "      <td>0.087116</td>\n",
              "    </tr>\n",
              "    <tr>\n",
              "      <th>Chloride</th>\n",
              "      <td>-0.001704</td>\n",
              "      <td>-0.006924</td>\n",
              "      <td>-0.002935</td>\n",
              "      <td>-0.003863</td>\n",
              "      <td>0.167288</td>\n",
              "      <td>0.031830</td>\n",
              "      <td>1.000000</td>\n",
              "      <td>0.820185</td>\n",
              "      <td>0.064152</td>\n",
              "      <td>0.602880</td>\n",
              "    </tr>\n",
              "    <tr>\n",
              "      <th>TDS</th>\n",
              "      <td>-0.000355</td>\n",
              "      <td>0.024914</td>\n",
              "      <td>-0.005209</td>\n",
              "      <td>0.001003</td>\n",
              "      <td>0.227302</td>\n",
              "      <td>0.061528</td>\n",
              "      <td>0.820185</td>\n",
              "      <td>1.000000</td>\n",
              "      <td>0.124564</td>\n",
              "      <td>0.648205</td>\n",
              "    </tr>\n",
              "    <tr>\n",
              "      <th>pH</th>\n",
              "      <td>0.062127</td>\n",
              "      <td>0.087656</td>\n",
              "      <td>0.007833</td>\n",
              "      <td>0.008110</td>\n",
              "      <td>-0.025801</td>\n",
              "      <td>0.047716</td>\n",
              "      <td>0.064152</td>\n",
              "      <td>0.124564</td>\n",
              "      <td>1.000000</td>\n",
              "      <td>0.244380</td>\n",
              "    </tr>\n",
              "    <tr>\n",
              "      <th>Hardness</th>\n",
              "      <td>0.010653</td>\n",
              "      <td>0.028347</td>\n",
              "      <td>-0.002007</td>\n",
              "      <td>0.012060</td>\n",
              "      <td>0.248088</td>\n",
              "      <td>0.087116</td>\n",
              "      <td>0.602880</td>\n",
              "      <td>0.648205</td>\n",
              "      <td>0.244380</td>\n",
              "      <td>1.000000</td>\n",
              "    </tr>\n",
              "  </tbody>\n",
              "</table>\n",
              "</div>\n",
              "    <div class=\"colab-df-buttons\">\n",
              "\n",
              "  <div class=\"colab-df-container\">\n",
              "    <button class=\"colab-df-convert\" onclick=\"convertToInteractive('df-5e742268-a6e9-45da-a8ef-805da78e379b')\"\n",
              "            title=\"Convert this dataframe to an interactive table.\"\n",
              "            style=\"display:none;\">\n",
              "\n",
              "  <svg xmlns=\"http://www.w3.org/2000/svg\" height=\"24px\" viewBox=\"0 -960 960 960\">\n",
              "    <path d=\"M120-120v-720h720v720H120Zm60-500h600v-160H180v160Zm220 220h160v-160H400v160Zm0 220h160v-160H400v160ZM180-400h160v-160H180v160Zm440 0h160v-160H620v160ZM180-180h160v-160H180v160Zm440 0h160v-160H620v160Z\"/>\n",
              "  </svg>\n",
              "    </button>\n",
              "\n",
              "  <style>\n",
              "    .colab-df-container {\n",
              "      display:flex;\n",
              "      gap: 12px;\n",
              "    }\n",
              "\n",
              "    .colab-df-convert {\n",
              "      background-color: #E8F0FE;\n",
              "      border: none;\n",
              "      border-radius: 50%;\n",
              "      cursor: pointer;\n",
              "      display: none;\n",
              "      fill: #1967D2;\n",
              "      height: 32px;\n",
              "      padding: 0 0 0 0;\n",
              "      width: 32px;\n",
              "    }\n",
              "\n",
              "    .colab-df-convert:hover {\n",
              "      background-color: #E2EBFA;\n",
              "      box-shadow: 0px 1px 2px rgba(60, 64, 67, 0.3), 0px 1px 3px 1px rgba(60, 64, 67, 0.15);\n",
              "      fill: #174EA6;\n",
              "    }\n",
              "\n",
              "    .colab-df-buttons div {\n",
              "      margin-bottom: 4px;\n",
              "    }\n",
              "\n",
              "    [theme=dark] .colab-df-convert {\n",
              "      background-color: #3B4455;\n",
              "      fill: #D2E3FC;\n",
              "    }\n",
              "\n",
              "    [theme=dark] .colab-df-convert:hover {\n",
              "      background-color: #434B5C;\n",
              "      box-shadow: 0px 1px 3px 1px rgba(0, 0, 0, 0.15);\n",
              "      filter: drop-shadow(0px 1px 2px rgba(0, 0, 0, 0.3));\n",
              "      fill: #FFFFFF;\n",
              "    }\n",
              "  </style>\n",
              "\n",
              "    <script>\n",
              "      const buttonEl =\n",
              "        document.querySelector('#df-5e742268-a6e9-45da-a8ef-805da78e379b button.colab-df-convert');\n",
              "      buttonEl.style.display =\n",
              "        google.colab.kernel.accessAllowed ? 'block' : 'none';\n",
              "\n",
              "      async function convertToInteractive(key) {\n",
              "        const element = document.querySelector('#df-5e742268-a6e9-45da-a8ef-805da78e379b');\n",
              "        const dataTable =\n",
              "          await google.colab.kernel.invokeFunction('convertToInteractive',\n",
              "                                                    [key], {});\n",
              "        if (!dataTable) return;\n",
              "\n",
              "        const docLinkHtml = 'Like what you see? Visit the ' +\n",
              "          '<a target=\"_blank\" href=https://colab.research.google.com/notebooks/data_table.ipynb>data table notebook</a>'\n",
              "          + ' to learn more about interactive tables.';\n",
              "        element.innerHTML = '';\n",
              "        dataTable['output_type'] = 'display_data';\n",
              "        await google.colab.output.renderOutput(dataTable, element);\n",
              "        const docLink = document.createElement('div');\n",
              "        docLink.innerHTML = docLinkHtml;\n",
              "        element.appendChild(docLink);\n",
              "      }\n",
              "    </script>\n",
              "  </div>\n",
              "\n",
              "\n",
              "<div id=\"df-6fbe507c-f015-4dbc-830b-4506b8ab7a02\">\n",
              "  <button class=\"colab-df-quickchart\" onclick=\"quickchart('df-6fbe507c-f015-4dbc-830b-4506b8ab7a02')\"\n",
              "            title=\"Suggest charts\"\n",
              "            style=\"display:none;\">\n",
              "\n",
              "<svg xmlns=\"http://www.w3.org/2000/svg\" height=\"24px\"viewBox=\"0 0 24 24\"\n",
              "     width=\"24px\">\n",
              "    <g>\n",
              "        <path d=\"M19 3H5c-1.1 0-2 .9-2 2v14c0 1.1.9 2 2 2h14c1.1 0 2-.9 2-2V5c0-1.1-.9-2-2-2zM9 17H7v-7h2v7zm4 0h-2V7h2v10zm4 0h-2v-4h2v4z\"/>\n",
              "    </g>\n",
              "</svg>\n",
              "  </button>\n",
              "\n",
              "<style>\n",
              "  .colab-df-quickchart {\n",
              "      --bg-color: #E8F0FE;\n",
              "      --fill-color: #1967D2;\n",
              "      --hover-bg-color: #E2EBFA;\n",
              "      --hover-fill-color: #174EA6;\n",
              "      --disabled-fill-color: #AAA;\n",
              "      --disabled-bg-color: #DDD;\n",
              "  }\n",
              "\n",
              "  [theme=dark] .colab-df-quickchart {\n",
              "      --bg-color: #3B4455;\n",
              "      --fill-color: #D2E3FC;\n",
              "      --hover-bg-color: #434B5C;\n",
              "      --hover-fill-color: #FFFFFF;\n",
              "      --disabled-bg-color: #3B4455;\n",
              "      --disabled-fill-color: #666;\n",
              "  }\n",
              "\n",
              "  .colab-df-quickchart {\n",
              "    background-color: var(--bg-color);\n",
              "    border: none;\n",
              "    border-radius: 50%;\n",
              "    cursor: pointer;\n",
              "    display: none;\n",
              "    fill: var(--fill-color);\n",
              "    height: 32px;\n",
              "    padding: 0;\n",
              "    width: 32px;\n",
              "  }\n",
              "\n",
              "  .colab-df-quickchart:hover {\n",
              "    background-color: var(--hover-bg-color);\n",
              "    box-shadow: 0 1px 2px rgba(60, 64, 67, 0.3), 0 1px 3px 1px rgba(60, 64, 67, 0.15);\n",
              "    fill: var(--button-hover-fill-color);\n",
              "  }\n",
              "\n",
              "  .colab-df-quickchart-complete:disabled,\n",
              "  .colab-df-quickchart-complete:disabled:hover {\n",
              "    background-color: var(--disabled-bg-color);\n",
              "    fill: var(--disabled-fill-color);\n",
              "    box-shadow: none;\n",
              "  }\n",
              "\n",
              "  .colab-df-spinner {\n",
              "    border: 2px solid var(--fill-color);\n",
              "    border-color: transparent;\n",
              "    border-bottom-color: var(--fill-color);\n",
              "    animation:\n",
              "      spin 1s steps(1) infinite;\n",
              "  }\n",
              "\n",
              "  @keyframes spin {\n",
              "    0% {\n",
              "      border-color: transparent;\n",
              "      border-bottom-color: var(--fill-color);\n",
              "      border-left-color: var(--fill-color);\n",
              "    }\n",
              "    20% {\n",
              "      border-color: transparent;\n",
              "      border-left-color: var(--fill-color);\n",
              "      border-top-color: var(--fill-color);\n",
              "    }\n",
              "    30% {\n",
              "      border-color: transparent;\n",
              "      border-left-color: var(--fill-color);\n",
              "      border-top-color: var(--fill-color);\n",
              "      border-right-color: var(--fill-color);\n",
              "    }\n",
              "    40% {\n",
              "      border-color: transparent;\n",
              "      border-right-color: var(--fill-color);\n",
              "      border-top-color: var(--fill-color);\n",
              "    }\n",
              "    60% {\n",
              "      border-color: transparent;\n",
              "      border-right-color: var(--fill-color);\n",
              "    }\n",
              "    80% {\n",
              "      border-color: transparent;\n",
              "      border-right-color: var(--fill-color);\n",
              "      border-bottom-color: var(--fill-color);\n",
              "    }\n",
              "    90% {\n",
              "      border-color: transparent;\n",
              "      border-bottom-color: var(--fill-color);\n",
              "    }\n",
              "  }\n",
              "</style>\n",
              "\n",
              "  <script>\n",
              "    async function quickchart(key) {\n",
              "      const quickchartButtonEl =\n",
              "        document.querySelector('#' + key + ' button');\n",
              "      quickchartButtonEl.disabled = true;  // To prevent multiple clicks.\n",
              "      quickchartButtonEl.classList.add('colab-df-spinner');\n",
              "      try {\n",
              "        const charts = await google.colab.kernel.invokeFunction(\n",
              "            'suggestCharts', [key], {});\n",
              "      } catch (error) {\n",
              "        console.error('Error during call to suggestCharts:', error);\n",
              "      }\n",
              "      quickchartButtonEl.classList.remove('colab-df-spinner');\n",
              "      quickchartButtonEl.classList.add('colab-df-quickchart-complete');\n",
              "    }\n",
              "    (() => {\n",
              "      let quickchartButtonEl =\n",
              "        document.querySelector('#df-6fbe507c-f015-4dbc-830b-4506b8ab7a02 button');\n",
              "      quickchartButtonEl.style.display =\n",
              "        google.colab.kernel.accessAllowed ? 'block' : 'none';\n",
              "    })();\n",
              "  </script>\n",
              "</div>\n",
              "\n",
              "  <div id=\"id_420ac4fd-bc89-4276-9e77-1a026e4642a3\">\n",
              "    <style>\n",
              "      .colab-df-generate {\n",
              "        background-color: #E8F0FE;\n",
              "        border: none;\n",
              "        border-radius: 50%;\n",
              "        cursor: pointer;\n",
              "        display: none;\n",
              "        fill: #1967D2;\n",
              "        height: 32px;\n",
              "        padding: 0 0 0 0;\n",
              "        width: 32px;\n",
              "      }\n",
              "\n",
              "      .colab-df-generate:hover {\n",
              "        background-color: #E2EBFA;\n",
              "        box-shadow: 0px 1px 2px rgba(60, 64, 67, 0.3), 0px 1px 3px 1px rgba(60, 64, 67, 0.15);\n",
              "        fill: #174EA6;\n",
              "      }\n",
              "\n",
              "      [theme=dark] .colab-df-generate {\n",
              "        background-color: #3B4455;\n",
              "        fill: #D2E3FC;\n",
              "      }\n",
              "\n",
              "      [theme=dark] .colab-df-generate:hover {\n",
              "        background-color: #434B5C;\n",
              "        box-shadow: 0px 1px 3px 1px rgba(0, 0, 0, 0.15);\n",
              "        filter: drop-shadow(0px 1px 2px rgba(0, 0, 0, 0.3));\n",
              "        fill: #FFFFFF;\n",
              "      }\n",
              "    </style>\n",
              "    <button class=\"colab-df-generate\" onclick=\"generateWithVariable('pearsoncorr')\"\n",
              "            title=\"Generate code using this dataframe.\"\n",
              "            style=\"display:none;\">\n",
              "\n",
              "  <svg xmlns=\"http://www.w3.org/2000/svg\" height=\"24px\"viewBox=\"0 0 24 24\"\n",
              "       width=\"24px\">\n",
              "    <path d=\"M7,19H8.4L18.45,9,17,7.55,7,17.6ZM5,21V16.75L18.45,3.32a2,2,0,0,1,2.83,0l1.4,1.43a1.91,1.91,0,0,1,.58,1.4,1.91,1.91,0,0,1-.58,1.4L9.25,21ZM18.45,9,17,7.55Zm-12,3A5.31,5.31,0,0,0,4.9,8.1,5.31,5.31,0,0,0,1,6.5,5.31,5.31,0,0,0,4.9,4.9,5.31,5.31,0,0,0,6.5,1,5.31,5.31,0,0,0,8.1,4.9,5.31,5.31,0,0,0,12,6.5,5.46,5.46,0,0,0,6.5,12Z\"/>\n",
              "  </svg>\n",
              "    </button>\n",
              "    <script>\n",
              "      (() => {\n",
              "      const buttonEl =\n",
              "        document.querySelector('#id_420ac4fd-bc89-4276-9e77-1a026e4642a3 button.colab-df-generate');\n",
              "      buttonEl.style.display =\n",
              "        google.colab.kernel.accessAllowed ? 'block' : 'none';\n",
              "\n",
              "      buttonEl.onclick = () => {\n",
              "        google.colab.notebook.generateWithVariable('pearsoncorr');\n",
              "      }\n",
              "      })();\n",
              "    </script>\n",
              "  </div>\n",
              "\n",
              "    </div>\n",
              "  </div>\n"
            ],
            "application/vnd.google.colaboratory.intrinsic+json": {
              "type": "dataframe",
              "variable_name": "pearsoncorr",
              "summary": "{\n  \"name\": \"pearsoncorr\",\n  \"rows\": 10,\n  \"fields\": [\n    {\n      \"column\": \"Turbidity\",\n      \"properties\": {\n        \"dtype\": \"number\",\n        \"std\": 0.3099347783210132,\n        \"min\": -0.00642245986249262,\n        \"max\": 1.0,\n        \"num_unique_values\": 10,\n        \"samples\": [\n          0.06212716289842086,\n          0.05055461126022004,\n          0.016623034606793947\n        ],\n        \"semantic_type\": \"\",\n        \"description\": \"\"\n      }\n    },\n    {\n      \"column\": \"Coliform\",\n      \"properties\": {\n        \"dtype\": \"number\",\n        \"std\": 0.30811203496246925,\n        \"min\": -0.015166515476174956,\n        \"max\": 1.0,\n        \"num_unique_values\": 10,\n        \"samples\": [\n          0.08765583330388496,\n          1.0,\n          0.08920208967141671\n        ],\n        \"semantic_type\": \"\",\n        \"description\": \"\"\n      }\n    },\n    {\n      \"column\": \"Manganese\",\n      \"properties\": {\n        \"dtype\": \"number\",\n        \"std\": 0.3164169529237599,\n        \"min\": -0.010956667307985009,\n        \"max\": 1.0,\n        \"num_unique_values\": 10,\n        \"samples\": [\n          0.007832889939558338,\n          -0.007535289010370501,\n          0.017362281433245967\n        ],\n        \"semantic_type\": \"\",\n        \"description\": \"\"\n      }\n    },\n    {\n      \"column\": \"Iron\",\n      \"properties\": {\n        \"dtype\": \"number\",\n        \"std\": 0.31264402735066094,\n        \"min\": -0.033283178459339834,\n        \"max\": 1.0,\n        \"num_unique_values\": 10,\n        \"samples\": [\n          0.008110495245185291,\n          0.042718502801841814,\n          0.03438203170190803\n        ],\n        \"semantic_type\": \"\",\n        \"description\": \"\"\n      }\n    },\n    {\n      \"column\": \"Nitrate\",\n      \"properties\": {\n        \"dtype\": \"number\",\n        \"std\": 0.3130195885723129,\n        \"min\": -0.033283178459339834,\n        \"max\": 1.0,\n        \"num_unique_values\": 10,\n        \"samples\": [\n          -0.025800842520141712,\n          -0.015166515476174956,\n          0.0922474521795807\n        ],\n        \"semantic_type\": \"\",\n        \"description\": \"\"\n      }\n    },\n    {\n      \"column\": \"Fluoride\",\n      \"properties\": {\n        \"dtype\": \"number\",\n        \"std\": 0.3008212994625627,\n        \"min\": 0.016623034606793947,\n        \"max\": 1.0,\n        \"num_unique_values\": 10,\n        \"samples\": [\n          0.04771555114690994,\n          0.08920208967141671,\n          1.0\n        ],\n        \"semantic_type\": \"\",\n        \"description\": \"\"\n      }\n    },\n    {\n      \"column\": \"Chloride\",\n      \"properties\": {\n        \"dtype\": \"number\",\n        \"std\": 0.38815539868289933,\n        \"min\": -0.006924305553272185,\n        \"max\": 1.0,\n        \"num_unique_values\": 10,\n        \"samples\": [\n          0.06415163585228123,\n          -0.006924305553272185,\n          0.03182964899917854\n        ],\n        \"semantic_type\": \"\",\n        \"description\": \"\"\n      }\n    },\n    {\n      \"column\": \"TDS\",\n      \"properties\": {\n        \"dtype\": \"number\",\n        \"std\": 0.38329721492798086,\n        \"min\": -0.005208988388361859,\n        \"max\": 1.0,\n        \"num_unique_values\": 10,\n        \"samples\": [\n          0.12456441981352469,\n          0.024914017358327455,\n          0.061527760393970586\n        ],\n        \"semantic_type\": \"\",\n        \"description\": \"\"\n      }\n    },\n    {\n      \"column\": \"pH\",\n      \"properties\": {\n        \"dtype\": \"number\",\n        \"std\": 0.3039165219332593,\n        \"min\": -0.025800842520141712,\n        \"max\": 1.0,\n        \"num_unique_values\": 10,\n        \"samples\": [\n          1.0,\n          0.08765583330388496,\n          0.04771555114690994\n        ],\n        \"semantic_type\": \"\",\n        \"description\": \"\"\n      }\n    },\n    {\n      \"column\": \"Hardness\",\n      \"properties\": {\n        \"dtype\": \"number\",\n        \"std\": 0.34709577332621255,\n        \"min\": -0.0020066406774064925,\n        \"max\": 1.0,\n        \"num_unique_values\": 10,\n        \"samples\": [\n          0.2443795609845879,\n          0.02834670745642079,\n          0.08711640678779821\n        ],\n        \"semantic_type\": \"\",\n        \"description\": \"\"\n      }\n    }\n  ]\n}"
            }
          },
          "metadata": {},
          "execution_count": 25
        }
      ],
      "source": [
        "pearsoncorr = X.corr(method='pearson')\n",
        "pearsoncorr"
      ]
    },
    {
      "cell_type": "code",
      "execution_count": 26,
      "metadata": {
        "id": "nQPNjAkyg2nW",
        "colab": {
          "base_uri": "https://localhost:8080/",
          "height": 518
        },
        "outputId": "f5fdda22-6ee9-4a82-ca47-690b6ea8c793"
      },
      "outputs": [
        {
          "output_type": "execute_result",
          "data": {
            "text/plain": [
              "<Axes: >"
            ]
          },
          "metadata": {},
          "execution_count": 26
        },
        {
          "output_type": "display_data",
          "data": {
            "text/plain": [
              "<Figure size 640x480 with 2 Axes>"
            ],
            "image/png": "[encoded data removed]"
          },
          "metadata": {}
        }
      ],
      "source": [
        "sb.heatmap(pearsoncorr,\n",
        "            xticklabels=pearsoncorr.columns,\n",
        "            yticklabels=pearsoncorr.columns,\n",
        "            cmap='RdBu_r',\n",
        "            annot=True,\n",
        "            linewidth=0.5)"
      ]
    },
    {
      "cell_type": "code",
      "execution_count": 27,
      "metadata": {
        "id": "KFPQiGm2ApXU",
        "colab": {
          "base_uri": "https://localhost:8080/"
        },
        "outputId": "96766c24-e7ca-427c-972d-5490485f276d"
      },
      "outputs": [
        {
          "output_type": "stream",
          "name": "stdout",
          "text": [
            "['Good' 'Good' 'Unsuitable' ... 'Unsuitable' 'Unsuitable' 'Unsuitable']\n",
            "              precision    recall  f1-score   support\n",
            "\n",
            "        Good       0.85      0.94      0.89      1086\n",
            "        Poor       0.86      0.71      0.78       831\n",
            "  Unsuitable       0.97      0.98      0.97      3168\n",
            "\n",
            "    accuracy                           0.93      5085\n",
            "   macro avg       0.89      0.88      0.88      5085\n",
            "weighted avg       0.93      0.93      0.93      5085\n",
            "\n"
          ]
        }
      ],
      "source": [
        "#Import svm package from sklearn\n",
        "from sklearn import svm\n",
        "\n",
        "X_train, X_test, y_train, y_test = train_test_split(X, y, test_size = 0.3, random_state = 0)\n",
        "\n",
        "#Create a svm Classifier\n",
        "clf = svm.SVC(kernel='rbf', C=1e-0, gamma=1e-3) # Kernel\n",
        "#Train the model using the training sets\n",
        "clf.fit(X_train, y_train)\n",
        "#Predict the response for test dataset\n",
        "y_pred = clf.predict(X_test)\n",
        "print(y_pred)\n",
        "\n",
        "print(classification_report(y_test, y_pred))"
      ]
    },
    {
      "cell_type": "code",
      "source": [
        "print(y_train.head(5))"
      ],
      "metadata": {
        "id": "6tqORrzhFzlO",
        "colab": {
          "base_uri": "https://localhost:8080/"
        },
        "outputId": "d12daa0b-0e8e-48dc-ff41-20d1845d6644"
      },
      "execution_count": 28,
      "outputs": [
        {
          "output_type": "stream",
          "name": "stdout",
          "text": [
            "1662           Poor\n",
            "7759     Unsuitable\n",
            "13564    Unsuitable\n",
            "15527    Unsuitable\n",
            "6263     Unsuitable\n",
            "Name: WQI group, dtype: object\n"
          ]
        }
      ]
    },
    {
      "cell_type": "code",
      "source": [
        "print(X_train.info())\n",
        "print(X_test.info())\n",
        "print(y_train.head())\n",
        "print(y_test.head())"
      ],
      "metadata": {
        "id": "YGQYUwv8_KyG",
        "colab": {
          "base_uri": "https://localhost:8080/"
        },
        "outputId": "cb831858-5f63-4aa8-d06f-27ca16aabfbf"
      },
      "execution_count": 29,
      "outputs": [
        {
          "output_type": "stream",
          "name": "stdout",
          "text": [
            "<class 'pandas.core.frame.DataFrame'>\n",
            "Int64Index: 11863 entries, 1662 to 2732\n",
            "Data columns (total 10 columns):\n",
            " #   Column     Non-Null Count  Dtype  \n",
            "---  ------     --------------  -----  \n",
            " 0   Turbidity  11863 non-null  float64\n",
            " 1   Coliform   11863 non-null  float64\n",
            " 2   Manganese  11863 non-null  float64\n",
            " 3   Iron       11863 non-null  float64\n",
            " 4   Nitrate    11863 non-null  float64\n",
            " 5   Fluoride   11863 non-null  float64\n",
            " 6   Chloride   11863 non-null  float64\n",
            " 7   TDS        11863 non-null  float64\n",
            " 8   pH         11863 non-null  float64\n",
            " 9   Hardness   11863 non-null  float64\n",
            "dtypes: float64(10)\n",
            "memory usage: 1019.5 KB\n",
            "None\n",
            "<class 'pandas.core.frame.DataFrame'>\n",
            "Int64Index: 5085 entries, 5818 to 7368\n",
            "Data columns (total 10 columns):\n",
            " #   Column     Non-Null Count  Dtype  \n",
            "---  ------     --------------  -----  \n",
            " 0   Turbidity  5085 non-null   float64\n",
            " 1   Coliform   5085 non-null   float64\n",
            " 2   Manganese  5085 non-null   float64\n",
            " 3   Iron       5085 non-null   float64\n",
            " 4   Nitrate    5085 non-null   float64\n",
            " 5   Fluoride   5085 non-null   float64\n",
            " 6   Chloride   5085 non-null   float64\n",
            " 7   TDS        5085 non-null   float64\n",
            " 8   pH         5085 non-null   float64\n",
            " 9   Hardness   5085 non-null   float64\n",
            "dtypes: float64(10)\n",
            "memory usage: 437.0 KB\n",
            "None\n",
            "1662           Poor\n",
            "7759     Unsuitable\n",
            "13564    Unsuitable\n",
            "15527    Unsuitable\n",
            "6263     Unsuitable\n",
            "Name: WQI group, dtype: object\n",
            "5818           Good\n",
            "10268          Good\n",
            "1378     Unsuitable\n",
            "3008     Unsuitable\n",
            "9763     Unsuitable\n",
            "Name: WQI group, dtype: object\n"
          ]
        }
      ]
    },
    {
      "cell_type": "markdown",
      "metadata": {
        "id": "Mgk21Ni_ZfA5"
      },
      "source": [
        "## Evaluate the performance of our model - Confusion Matrix"
      ]
    },
    {
      "cell_type": "code",
      "execution_count": 30,
      "metadata": {
        "id": "Wtsb_jgieRkE",
        "colab": {
          "base_uri": "https://localhost:8080/"
        },
        "outputId": "c52791dc-e4a3-43ed-a8c4-466e3cdcfa1b"
      },
      "outputs": [
        {
          "output_type": "stream",
          "name": "stdout",
          "text": [
            "StratifiedKFold(n_splits=3, random_state=None, shuffle=False)\n"
          ]
        }
      ],
      "source": [
        "## Specify number of folds in stratified k-fold\n",
        "skf = StratifiedKFold(n_splits=3)\t# n_Splits stands for number of folds required (2 is the default minimum)\n",
        "num_of_splits = 3 \t# Specify the number of splits required (to calculate the average MAE)\n",
        "\n",
        "skf.get_n_splits(X, y)\n",
        "print(skf)\n"
      ]
    },
    {
      "cell_type": "code",
      "execution_count": 31,
      "metadata": {
        "id": "TbC_2ZKFgr4h"
      },
      "outputs": [],
      "source": [
        "import pandas as pd\n",
        "import numpy as np\n",
        "from sklearn.svm import SVC\n",
        "from sklearn.metrics import classification_report, confusion_matrix\n",
        "import matplotlib.pyplot as plt\n",
        "%matplotlib inline"
      ]
    },
    {
      "cell_type": "code",
      "execution_count": 32,
      "metadata": {
        "id": "28Zuzdc6e6cI",
        "colab": {
          "base_uri": "https://localhost:8080/",
          "height": 105
        },
        "outputId": "8b5f9c91-4d3e-4079-db06-878a93dc27e0"
      },
      "outputs": [
        {
          "output_type": "execute_result",
          "data": {
            "text/plain": [
              "'\\n### NOt to be used. -> Backup code\\nX_train, X_test, y_train, y_test = train_test_split(X, y, test_size = 0.20)\\nkernels = [\\'Polynomial\\', \\'RBF\\', \\'Sigmoid\\',\\'Linear\\']#A function which returns the corresponding SVC model\\ndef getClassifier(ktype):\\n    if ktype == 0:\\n        # Polynomial kernal\\n        return SVC(kernel=\\'poly\\', degree=8, gamma=\"auto\")\\n    elif ktype == 1:\\n        # Radial Basis Function kernal\\n        return SVC(kernel=\\'rbf\\', gamma=\"auto\")\\n    elif ktype == 2:\\n        # Sigmoid kernal\\n        return SVC(kernel=\\'sigmoid\\', gamma=\"auto\")\\n    elif ktype == 3:\\n        # Linear kernal\\n        return SVC(kernel=\\'linear\\', gamma=\"auto\")\\n\\nfor i in range(4):\\n    # Separate data into test and training sets\\n    X_train, X_test, y_train, y_test = train_test_split(X, y, test_size = 0.20)# Train a SVC model using different kernal\\n    svclassifier = getClassifier(i) \\n    svclassifier.fit(X_train, y_train)# Make prediction\\n    y_pred = svclassifier.predict(X_test)# Evaluate our model\\n    print(\"Evaluation:\", kernals[i], \"kernel\")\\n    print(classification_report(y_test,y_pred))\\n'"
            ],
            "application/vnd.google.colaboratory.intrinsic+json": {
              "type": "string"
            }
          },
          "metadata": {},
          "execution_count": 32
        }
      ],
      "source": [
        "'''\n",
        "### NOt to be used. -> Backup code\n",
        "X_train, X_test, y_train, y_test = train_test_split(X, y, test_size = 0.20)\n",
        "kernels = ['Polynomial', 'RBF', 'Sigmoid','Linear']#A function which returns the corresponding SVC model\n",
        "def getClassifier(ktype):\n",
        "    if ktype == 0:\n",
        "        # Polynomial kernal\n",
        "        return SVC(kernel='poly', degree=8, gamma=\"auto\")\n",
        "    elif ktype == 1:\n",
        "        # Radial Basis Function kernal\n",
        "        return SVC(kernel='rbf', gamma=\"auto\")\n",
        "    elif ktype == 2:\n",
        "        # Sigmoid kernal\n",
        "        return SVC(kernel='sigmoid', gamma=\"auto\")\n",
        "    elif ktype == 3:\n",
        "        # Linear kernal\n",
        "        return SVC(kernel='linear', gamma=\"auto\")\n",
        "\n",
        "for i in range(4):\n",
        "    # Separate data into test and training sets\n",
        "    X_train, X_test, y_train, y_test = train_test_split(X, y, test_size = 0.20)# Train a SVC model using different kernal\n",
        "    svclassifier = getClassifier(i)\n",
        "    svclassifier.fit(X_train, y_train)# Make prediction\n",
        "    y_pred = svclassifier.predict(X_test)# Evaluate our model\n",
        "    print(\"Evaluation:\", kernals[i], \"kernel\")\n",
        "    print(classification_report(y_test,y_pred))\n",
        "'''"
      ]
    },
    {
      "cell_type": "code",
      "execution_count": 33,
      "metadata": {
        "id": "LkmPCzHrgswA",
        "colab": {
          "base_uri": "https://localhost:8080/"
        },
        "outputId": "fc0cc18e-f266-4bcf-945c-c77fcf467fd0"
      },
      "outputs": [
        {
          "output_type": "stream",
          "name": "stdout",
          "text": [
            "Fitting 2 folds for each of 6 candidates, totalling 12 fits\n",
            "[CV 1/2] END ........C=0.1, gamma=1, kernel=rbf;, score=0.638 total time=   5.3s\n",
            "[CV 2/2] END ........C=0.1, gamma=1, kernel=rbf;, score=0.638 total time=   7.3s\n",
            "[CV 1/2] END ......C=0.1, gamma=0.1, kernel=rbf;, score=0.638 total time=   5.7s\n",
            "[CV 2/2] END ......C=0.1, gamma=0.1, kernel=rbf;, score=0.638 total time=   7.3s\n",
            "[CV 1/2] END ..........C=1, gamma=1, kernel=rbf;, score=0.651 total time=   5.9s\n",
            "[CV 2/2] END ..........C=1, gamma=1, kernel=rbf;, score=0.651 total time=   5.9s\n",
            "[CV 1/2] END ........C=1, gamma=0.1, kernel=rbf;, score=0.690 total time=   7.2s\n",
            "[CV 2/2] END ........C=1, gamma=0.1, kernel=rbf;, score=0.689 total time=   6.2s\n",
            "[CV 1/2] END .........C=10, gamma=1, kernel=rbf;, score=0.652 total time=   7.3s\n",
            "[CV 2/2] END .........C=10, gamma=1, kernel=rbf;, score=0.652 total time=   5.8s\n",
            "[CV 1/2] END .......C=10, gamma=0.1, kernel=rbf;, score=0.705 total time=   7.6s\n",
            "[CV 2/2] END .......C=10, gamma=0.1, kernel=rbf;, score=0.707 total time=   6.0s\n",
            "SVC(C=10, gamma=0.1)\n",
            "[[ 414   15  657]\n",
            " [  18  170  643]\n",
            " [   4    3 3161]]\n",
            "              precision    recall  f1-score   support\n",
            "\n",
            "        Good       0.95      0.38      0.54      1086\n",
            "        Poor       0.90      0.20      0.33       831\n",
            "  Unsuitable       0.71      1.00      0.83      3168\n",
            "\n",
            "    accuracy                           0.74      5085\n",
            "   macro avg       0.85      0.53      0.57      5085\n",
            "weighted avg       0.79      0.74      0.69      5085\n",
            "\n"
          ]
        }
      ],
      "source": [
        "### Not to be used now - need revision\n",
        "from sklearn.model_selection import GridSearchCV\n",
        "param_grid = {'C': [0.1,1,10], 'gamma': [1,0.1],'kernel': ['rbf']}\n",
        "grid = GridSearchCV(SVC(),param_grid,refit=True,cv=2,verbose=3)\n",
        "grid.fit(X_train,y_train)\n",
        "print(grid.best_estimator_)\n",
        "grid_predictions = grid.predict(X_test)\n",
        "print(confusion_matrix(y_test,grid_predictions))\n",
        "print(classification_report(y_test,grid_predictions))"
      ]
    },
    {
      "cell_type": "code",
      "execution_count": 34,
      "metadata": {
        "id": "S4XPjPWjq05R",
        "colab": {
          "base_uri": "https://localhost:8080/",
          "height": 35
        },
        "outputId": "ab884554-587d-45a7-ddf8-cce79bc36279"
      },
      "outputs": [
        {
          "output_type": "execute_result",
          "data": {
            "text/plain": [
              "'\\nfrom sklearn.cluster import KMeans\\n\\nkmeans = KMeans(n_clusters=5, random_state=0) \\n\\nkmeans.fit(X)\\n'"
            ],
            "application/vnd.google.colaboratory.intrinsic+json": {
              "type": "string"
            }
          },
          "metadata": {},
          "execution_count": 34
        }
      ],
      "source": [
        "'''\n",
        "from sklearn.cluster import KMeans\n",
        "\n",
        "kmeans = KMeans(n_clusters=5, random_state=0)\n",
        "\n",
        "kmeans.fit(X)\n",
        "'''"
      ]
    }
  ],
  "metadata": {
    "colab": {
      "provenance": []
    },
    "kernelspec": {
      "display_name": "Python 3",
      "name": "python3"
    }
  },
  "nbformat": 4,
  "nbformat_minor": 0
}